{
 "cells": [
  {
   "cell_type": "markdown",
   "metadata": {},
   "source": [
    "REGEX"
   ]
  },
  {
   "cell_type": "code",
   "execution_count": 2,
   "metadata": {},
   "outputs": [],
   "source": [
    "import re"
   ]
  },
  {
   "cell_type": "code",
   "execution_count": 3,
   "metadata": {},
   "outputs": [],
   "source": [
    "text = \"this is someones random phone number - 1234567898 or (123)-876-4533\""
   ]
  },
  {
   "cell_type": "code",
   "execution_count": 4,
   "metadata": {},
   "outputs": [],
   "source": [
    "regex = \"\\d{10}|\\(\\d{3}\\)-\\d{3}-\\d{4}\""
   ]
  },
  {
   "cell_type": "code",
   "execution_count": 5,
   "metadata": {},
   "outputs": [
    {
     "name": "stdout",
     "output_type": "stream",
     "text": [
      "['1234567898', '(123)-876-4533']\n"
     ]
    }
   ],
   "source": [
    "print(re.findall(regex,text))"
   ]
  },
  {
   "cell_type": "code",
   "execution_count": 6,
   "metadata": {},
   "outputs": [
    {
     "name": "stdout",
     "output_type": "stream",
     "text": [
      "['FY2020 Q4', 'FY2021 Q1']\n"
     ]
    }
   ],
   "source": [
    "text = \"This FY2020 Q4 is something something and the next FY2021 Q1 should be something and FY2022 Q5 is not valid\"\n",
    "\n",
    "regex = \"FY\\d{4} Q[1-4]\"\n",
    "\n",
    "print(re.findall(regex,text))"
   ]
  },
  {
   "cell_type": "markdown",
   "metadata": {},
   "source": [
    "To extract just the year"
   ]
  },
  {
   "cell_type": "code",
   "execution_count": 8,
   "metadata": {},
   "outputs": [
    {
     "name": "stdout",
     "output_type": "stream",
     "text": [
      "['2020 Q4', '2021 Q1']\n"
     ]
    }
   ],
   "source": [
    "text = \"This FY2020 Q4 is something something and the next FY2021 Q1 should be something and FY2022 Q5 is not valid\"\n",
    "\n",
    "regex = \"FY(\\d{4} Q[1-4])\"\n",
    "print(re.findall(regex,text))\n"
   ]
  },
  {
   "cell_type": "markdown",
   "metadata": {},
   "source": [
    "Extracting Numbers"
   ]
  },
  {
   "cell_type": "code",
   "execution_count": 9,
   "metadata": {},
   "outputs": [
    {
     "name": "stdout",
     "output_type": "stream",
     "text": [
      "['$7.3 billions', '$10 billions']\n"
     ]
    }
   ],
   "source": [
    "text = \"This FY2020 Q4 is some random words $7.3 billions and the next FY2021 Q1 should be $10 billions and FY2022 Q5 is not valid\"\n",
    "regex = \"\\$[0-9\\.]+ [a-z]+\"\n",
    "print(re.findall(regex,text))"
   ]
  },
  {
   "cell_type": "code",
   "execution_count": 10,
   "metadata": {},
   "outputs": [
    {
     "name": "stdout",
     "output_type": "stream",
     "text": [
      "[('FY2020 Q4', '$7.3 billions'), ('FY2021 Q1', '$10 billions')]\n"
     ]
    }
   ],
   "source": [
    "text = \"This FY2020 Q4 is some random words $7.3 billions and the next FY2021 Q1 should be $10 billions and FY2022 Q5 is not valid\"\n",
    "regex = \"(FY\\d{4} Q[1-4]) [^$]+(\\$[0-9\\.]+ [a-z]+)\"\n",
    "print(re.findall(regex,text))"
   ]
  }
 ],
 "metadata": {
  "kernelspec": {
   "display_name": "Python 3",
   "language": "python",
   "name": "python3"
  },
  "language_info": {
   "codemirror_mode": {
    "name": "ipython",
    "version": 3
   },
   "file_extension": ".py",
   "mimetype": "text/x-python",
   "name": "python",
   "nbconvert_exporter": "python",
   "pygments_lexer": "ipython3",
   "version": "3.11.3"
  },
  "orig_nbformat": 4
 },
 "nbformat": 4,
 "nbformat_minor": 2
}
