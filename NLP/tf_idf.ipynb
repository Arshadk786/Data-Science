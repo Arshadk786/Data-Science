{
 "cells": [
  {
   "cell_type": "code",
   "execution_count": 61,
   "metadata": {},
   "outputs": [],
   "source": [
    "from sklearn.feature_extraction.text import TfidfVectorizer"
   ]
  },
  {
   "cell_type": "code",
   "execution_count": 62,
   "metadata": {},
   "outputs": [],
   "source": [
    "corpus = [\"They desperately needed another drummer since the current one only knew how to play bongos.\",\"He put heat on the wound to see what would grow.\",\"I would be delighted if the sea were full of cucumber juice.\",\"There's an art to getting your way, and spitting olive pits across the table isn't it.\",\"Please tell me you don't work in a morgue.\"]"
   ]
  },
  {
   "cell_type": "code",
   "execution_count": 63,
   "metadata": {},
   "outputs": [
    {
     "data": {
      "text/plain": [
       "{'they': 45,\n",
       " 'desperately': 10,\n",
       " 'needed': 27,\n",
       " 'another': 3,\n",
       " 'drummer': 12,\n",
       " 'since': 39,\n",
       " 'the': 43,\n",
       " 'current': 8,\n",
       " 'one': 31,\n",
       " 'only': 32,\n",
       " 'knew': 24,\n",
       " 'how': 18,\n",
       " 'to': 46,\n",
       " 'play': 34,\n",
       " 'bongos': 6,\n",
       " 'he': 16,\n",
       " 'put': 36,\n",
       " 'heat': 17,\n",
       " 'on': 30,\n",
       " 'wound': 52,\n",
       " 'see': 38,\n",
       " 'what': 49,\n",
       " 'would': 51,\n",
       " 'grow': 15,\n",
       " 'be': 5,\n",
       " 'delighted': 9,\n",
       " 'if': 19,\n",
       " 'sea': 37,\n",
       " 'were': 48,\n",
       " 'full': 13,\n",
       " 'of': 28,\n",
       " 'cucumber': 7,\n",
       " 'juice': 23,\n",
       " 'there': 44,\n",
       " 'an': 1,\n",
       " 'art': 4,\n",
       " 'getting': 14,\n",
       " 'your': 54,\n",
       " 'way': 47,\n",
       " 'and': 2,\n",
       " 'spitting': 40,\n",
       " 'olive': 29,\n",
       " 'pits': 33,\n",
       " 'across': 0,\n",
       " 'table': 41,\n",
       " 'isn': 21,\n",
       " 'it': 22,\n",
       " 'please': 35,\n",
       " 'tell': 42,\n",
       " 'me': 25,\n",
       " 'you': 53,\n",
       " 'don': 11,\n",
       " 'work': 50,\n",
       " 'in': 20,\n",
       " 'morgue': 26}"
      ]
     },
     "execution_count": 63,
     "metadata": {},
     "output_type": "execute_result"
    }
   ],
   "source": [
    "v = TfidfVectorizer()\n",
    "output = v.fit_transform(corpus)\n",
    "v.vocabulary_"
   ]
  },
  {
   "cell_type": "code",
   "execution_count": 64,
   "metadata": {},
   "outputs": [
    {
     "name": "stdout",
     "output_type": "stream",
     "text": [
      "across 2.09861228866811\n",
      "an 2.09861228866811\n",
      "and 2.09861228866811\n",
      "another 2.09861228866811\n",
      "art 2.09861228866811\n",
      "be 2.09861228866811\n",
      "bongos 2.09861228866811\n",
      "cucumber 2.09861228866811\n",
      "current 2.09861228866811\n",
      "delighted 2.09861228866811\n",
      "desperately 2.09861228866811\n",
      "don 2.09861228866811\n",
      "drummer 2.09861228866811\n",
      "full 2.09861228866811\n",
      "getting 2.09861228866811\n",
      "grow 2.09861228866811\n",
      "he 2.09861228866811\n",
      "heat 2.09861228866811\n",
      "how 2.09861228866811\n",
      "if 2.09861228866811\n",
      "in 2.09861228866811\n",
      "isn 2.09861228866811\n",
      "it 2.09861228866811\n",
      "juice 2.09861228866811\n",
      "knew 2.09861228866811\n",
      "me 2.09861228866811\n",
      "morgue 2.09861228866811\n",
      "needed 2.09861228866811\n",
      "of 2.09861228866811\n",
      "olive 2.09861228866811\n",
      "on 2.09861228866811\n",
      "one 2.09861228866811\n",
      "only 2.09861228866811\n",
      "pits 2.09861228866811\n",
      "play 2.09861228866811\n",
      "please 2.09861228866811\n",
      "put 2.09861228866811\n",
      "sea 2.09861228866811\n",
      "see 2.09861228866811\n",
      "since 2.09861228866811\n",
      "spitting 2.09861228866811\n",
      "table 2.09861228866811\n",
      "tell 2.09861228866811\n",
      "the 1.1823215567939547\n",
      "there 2.09861228866811\n",
      "they 2.09861228866811\n",
      "to 1.4054651081081644\n",
      "way 2.09861228866811\n",
      "were 2.09861228866811\n",
      "what 2.09861228866811\n",
      "work 2.09861228866811\n",
      "would 1.6931471805599454\n",
      "wound 2.09861228866811\n",
      "you 2.09861228866811\n",
      "your 2.09861228866811\n"
     ]
    }
   ],
   "source": [
    "all_feature_names = v.get_feature_names_out()\n",
    "for word in all_feature_names:\n",
    "    indx = v.vocabulary_.get(word)\n",
    "    print(f\"{word} {v.idf_[indx]}\")"
   ]
  },
  {
   "cell_type": "code",
   "execution_count": 65,
   "metadata": {},
   "outputs": [
    {
     "data": {
      "text/plain": [
       "['They desperately needed another drummer since the current one only knew how to play bongos.',\n",
       " 'He put heat on the wound to see what would grow.']"
      ]
     },
     "execution_count": 65,
     "metadata": {},
     "output_type": "execute_result"
    }
   ],
   "source": [
    "corpus[:2]"
   ]
  },
  {
   "cell_type": "code",
   "execution_count": 66,
   "metadata": {},
   "outputs": [
    {
     "data": {
      "text/plain": [
       "array([[0.        , 0.        , 0.        , 0.26952402, 0.        ,\n",
       "        0.        , 0.26952402, 0.        , 0.26952402, 0.        ,\n",
       "        0.26952402, 0.        , 0.26952402, 0.        , 0.        ,\n",
       "        0.        , 0.        , 0.        , 0.26952402, 0.        ,\n",
       "        0.        , 0.        , 0.        , 0.        , 0.26952402,\n",
       "        0.        , 0.        , 0.26952402, 0.        , 0.        ,\n",
       "        0.        , 0.26952402, 0.26952402, 0.        , 0.26952402,\n",
       "        0.        , 0.        , 0.        , 0.        , 0.26952402,\n",
       "        0.        , 0.        , 0.        , 0.15184513, 0.        ,\n",
       "        0.26952402, 0.18050338, 0.        , 0.        , 0.        ,\n",
       "        0.        , 0.        , 0.        , 0.        , 0.        ],\n",
       "       [0.        , 0.        , 0.        , 0.        , 0.        ,\n",
       "        0.        , 0.        , 0.        , 0.        , 0.        ,\n",
       "        0.        , 0.        , 0.        , 0.        , 0.        ,\n",
       "        0.32587245, 0.32587245, 0.32587245, 0.        , 0.        ,\n",
       "        0.        , 0.        , 0.        , 0.        , 0.        ,\n",
       "        0.        , 0.        , 0.        , 0.        , 0.        ,\n",
       "        0.32587245, 0.        , 0.        , 0.        , 0.        ,\n",
       "        0.        , 0.32587245, 0.        , 0.32587245, 0.        ,\n",
       "        0.        , 0.        , 0.        , 0.18359085, 0.        ,\n",
       "        0.        , 0.21824058, 0.        , 0.        , 0.32587245,\n",
       "        0.        , 0.26291184, 0.32587245, 0.        , 0.        ]])"
      ]
     },
     "execution_count": 66,
     "metadata": {},
     "output_type": "execute_result"
    }
   ],
   "source": [
    "output.toarray()[:2]"
   ]
  },
  {
   "cell_type": "code",
   "execution_count": 67,
   "metadata": {},
   "outputs": [],
   "source": [
    "import pandas as pd\n"
   ]
  },
  {
   "cell_type": "code",
   "execution_count": 68,
   "metadata": {},
   "outputs": [],
   "source": [
    "df = pd.read_csv(\"./Datasets/Ecommerce_data.csv\")"
   ]
  },
  {
   "cell_type": "code",
   "execution_count": 69,
   "metadata": {},
   "outputs": [
    {
     "data": {
      "text/html": [
       "<div>\n",
       "<style scoped>\n",
       "    .dataframe tbody tr th:only-of-type {\n",
       "        vertical-align: middle;\n",
       "    }\n",
       "\n",
       "    .dataframe tbody tr th {\n",
       "        vertical-align: top;\n",
       "    }\n",
       "\n",
       "    .dataframe thead th {\n",
       "        text-align: right;\n",
       "    }\n",
       "</style>\n",
       "<table border=\"1\" class=\"dataframe\">\n",
       "  <thead>\n",
       "    <tr style=\"text-align: right;\">\n",
       "      <th></th>\n",
       "      <th>Text</th>\n",
       "      <th>label</th>\n",
       "    </tr>\n",
       "  </thead>\n",
       "  <tbody>\n",
       "    <tr>\n",
       "      <th>0</th>\n",
       "      <td>Urban Ladder Eisner Low Back Study-Office Comp...</td>\n",
       "      <td>Household</td>\n",
       "    </tr>\n",
       "    <tr>\n",
       "      <th>1</th>\n",
       "      <td>Contrast living Wooden Decorative Box,Painted ...</td>\n",
       "      <td>Household</td>\n",
       "    </tr>\n",
       "    <tr>\n",
       "      <th>2</th>\n",
       "      <td>IO Crest SY-PCI40010 PCI RAID Host Controller ...</td>\n",
       "      <td>Electronics</td>\n",
       "    </tr>\n",
       "    <tr>\n",
       "      <th>3</th>\n",
       "      <td>ISAKAA Baby Socks from Just Born to 8 Years- P...</td>\n",
       "      <td>Clothing &amp; Accessories</td>\n",
       "    </tr>\n",
       "    <tr>\n",
       "      <th>4</th>\n",
       "      <td>Indira Designer Women's Art Mysore Silk Saree ...</td>\n",
       "      <td>Clothing &amp; Accessories</td>\n",
       "    </tr>\n",
       "  </tbody>\n",
       "</table>\n",
       "</div>"
      ],
      "text/plain": [
       "                                                Text                   label\n",
       "0  Urban Ladder Eisner Low Back Study-Office Comp...               Household\n",
       "1  Contrast living Wooden Decorative Box,Painted ...               Household\n",
       "2  IO Crest SY-PCI40010 PCI RAID Host Controller ...             Electronics\n",
       "3  ISAKAA Baby Socks from Just Born to 8 Years- P...  Clothing & Accessories\n",
       "4  Indira Designer Women's Art Mysore Silk Saree ...  Clothing & Accessories"
      ]
     },
     "execution_count": 69,
     "metadata": {},
     "output_type": "execute_result"
    }
   ],
   "source": [
    "df.head()"
   ]
  },
  {
   "cell_type": "code",
   "execution_count": 70,
   "metadata": {},
   "outputs": [
    {
     "data": {
      "text/plain": [
       "(24000, 2)"
      ]
     },
     "execution_count": 70,
     "metadata": {},
     "output_type": "execute_result"
    }
   ],
   "source": [
    "df.shape"
   ]
  },
  {
   "cell_type": "code",
   "execution_count": 71,
   "metadata": {},
   "outputs": [
    {
     "data": {
      "text/plain": [
       "([<matplotlib.patches.Wedge at 0x1bab03f6e10>,\n",
       "  <matplotlib.patches.Wedge at 0x1bab03f5790>,\n",
       "  <matplotlib.patches.Wedge at 0x1bab020b490>,\n",
       "  <matplotlib.patches.Wedge at 0x1bab0342590>],\n",
       " [Text(0.7778174593052024, 0.7778174593052024, 'Household'),\n",
       "  Text(-0.848528137423857, 0.8485281374238571, 'Electronics'),\n",
       "  Text(-0.7778174593052025, -0.7778174593052023, 'Clothing & Accessories'),\n",
       "  Text(0.9192388155425116, -0.9192388155425121, 'Books')],\n",
       " [Text(0.4242640687119285, 0.4242640687119285, '25%'),\n",
       "  Text(-0.4949747468305832, 0.4949747468305833, '25%'),\n",
       "  Text(-0.4242640687119286, -0.42426406871192845, '25%'),\n",
       "  Text(0.5656854249492379, -0.5656854249492381, '25%')])"
      ]
     },
     "execution_count": 71,
     "metadata": {},
     "output_type": "execute_result"
    },
    {
     "data": {
      "image/png": "[encoded data removed]",
      "text/plain": [
       "<Figure size 640x480 with 1 Axes>"
      ]
     },
     "metadata": {},
     "output_type": "display_data"
    }
   ],
   "source": [
    "import matplotlib.pyplot as plt\n",
    "plt.pie(df.label.value_counts(),labels=[i for i in df.label.unique()],autopct='%1.0f%%',explode=(0, 0.1, 0, 0.2))"
   ]
  },
  {
   "cell_type": "code",
   "execution_count": 72,
   "metadata": {},
   "outputs": [
    {
     "data": {
      "text/plain": [
       "label\n",
       "Household                 6000\n",
       "Electronics               6000\n",
       "Clothing & Accessories    6000\n",
       "Books                     6000\n",
       "Name: count, dtype: int64"
      ]
     },
     "execution_count": 72,
     "metadata": {},
     "output_type": "execute_result"
    }
   ],
   "source": [
    "df.label.value_counts()"
   ]
  },
  {
   "cell_type": "code",
   "execution_count": 73,
   "metadata": {},
   "outputs": [],
   "source": [
    "df.label = df.label.map({\n",
    "    \"Household\" : 0,\n",
    "    \"Electronics\" : 1,\n",
    "    \"Clothing & Accessories\" : 2,\n",
    "    \"Books\" : 3\n",
    "})"
   ]
  },
  {
   "cell_type": "code",
   "execution_count": 74,
   "metadata": {},
   "outputs": [
    {
     "data": {
      "text/html": [
       "<div>\n",
       "<style scoped>\n",
       "    .dataframe tbody tr th:only-of-type {\n",
       "        vertical-align: middle;\n",
       "    }\n",
       "\n",
       "    .dataframe tbody tr th {\n",
       "        vertical-align: top;\n",
       "    }\n",
       "\n",
       "    .dataframe thead th {\n",
       "        text-align: right;\n",
       "    }\n",
       "</style>\n",
       "<table border=\"1\" class=\"dataframe\">\n",
       "  <thead>\n",
       "    <tr style=\"text-align: right;\">\n",
       "      <th></th>\n",
       "      <th>Text</th>\n",
       "      <th>label</th>\n",
       "    </tr>\n",
       "  </thead>\n",
       "  <tbody>\n",
       "    <tr>\n",
       "      <th>0</th>\n",
       "      <td>Urban Ladder Eisner Low Back Study-Office Comp...</td>\n",
       "      <td>0</td>\n",
       "    </tr>\n",
       "    <tr>\n",
       "      <th>1</th>\n",
       "      <td>Contrast living Wooden Decorative Box,Painted ...</td>\n",
       "      <td>0</td>\n",
       "    </tr>\n",
       "    <tr>\n",
       "      <th>2</th>\n",
       "      <td>IO Crest SY-PCI40010 PCI RAID Host Controller ...</td>\n",
       "      <td>1</td>\n",
       "    </tr>\n",
       "    <tr>\n",
       "      <th>3</th>\n",
       "      <td>ISAKAA Baby Socks from Just Born to 8 Years- P...</td>\n",
       "      <td>2</td>\n",
       "    </tr>\n",
       "    <tr>\n",
       "      <th>4</th>\n",
       "      <td>Indira Designer Women's Art Mysore Silk Saree ...</td>\n",
       "      <td>2</td>\n",
       "    </tr>\n",
       "  </tbody>\n",
       "</table>\n",
       "</div>"
      ],
      "text/plain": [
       "                                                Text  label\n",
       "0  Urban Ladder Eisner Low Back Study-Office Comp...      0\n",
       "1  Contrast living Wooden Decorative Box,Painted ...      0\n",
       "2  IO Crest SY-PCI40010 PCI RAID Host Controller ...      1\n",
       "3  ISAKAA Baby Socks from Just Born to 8 Years- P...      2\n",
       "4  Indira Designer Women's Art Mysore Silk Saree ...      2"
      ]
     },
     "execution_count": 74,
     "metadata": {},
     "output_type": "execute_result"
    }
   ],
   "source": [
    "df.head()"
   ]
  },
  {
   "cell_type": "code",
   "execution_count": 75,
   "metadata": {},
   "outputs": [],
   "source": [
    "from sklearn.model_selection import train_test_split\n",
    "x_train ,x_test , y_train , y_test = train_test_split(df.Text,df.label,random_state= 50 ,stratify= df.label)"
   ]
  },
  {
   "cell_type": "code",
   "execution_count": 76,
   "metadata": {},
   "outputs": [
    {
     "data": {
      "text/plain": [
       "10932    B. Pharm (Bachelor of Pharmacy) Entrance Exam ...\n",
       "13663    Monte Carlo Maroon Solid Cotton Spread Collar ...\n",
       "11384    Adbucks Boy's Rich Cotton Full Sleeves Zipper ...\n",
       "9579     AmazonBasics Digital Optical Audio Toslink Cab...\n",
       "10346    Kuchipoo Boys Polo Neck Collar Kids T-Shirts T...\n",
       "Name: Text, dtype: object"
      ]
     },
     "execution_count": 76,
     "metadata": {},
     "output_type": "execute_result"
    }
   ],
   "source": [
    "x_train[:5]"
   ]
  },
  {
   "cell_type": "code",
   "execution_count": 77,
   "metadata": {},
   "outputs": [],
   "source": [
    "from sklearn.pipeline import Pipeline\n",
    "from sklearn.naive_bayes import MultinomialNB\n",
    "clf = Pipeline([\n",
    "    (\"TfidfVectorizer\",TfidfVectorizer()),\n",
    "    (\"MultinomialNB\",MultinomialNB())\n",
    "])"
   ]
  },
  {
   "cell_type": "code",
   "execution_count": 79,
   "metadata": {},
   "outputs": [],
   "source": [
    "clf.fit(x_train , y_train)\n",
    "y_pred = clf.predict(x_test)"
   ]
  },
  {
   "cell_type": "code",
   "execution_count": 81,
   "metadata": {},
   "outputs": [
    {
     "name": "stdout",
     "output_type": "stream",
     "text": [
      "              precision    recall  f1-score   support\n",
      "\n",
      "           0       0.94      0.97      0.96      1500\n",
      "           1       0.97      0.97      0.97      1500\n",
      "           2       0.97      0.98      0.98      1500\n",
      "           3       0.98      0.94      0.96      1500\n",
      "\n",
      "    accuracy                           0.97      6000\n",
      "   macro avg       0.97      0.97      0.97      6000\n",
      "weighted avg       0.97      0.97      0.97      6000\n",
      "\n"
     ]
    }
   ],
   "source": [
    "from sklearn.metrics import classification_report\n",
    "print(classification_report(y_test , y_pred))"
   ]
  },
  {
   "cell_type": "code",
   "execution_count": 82,
   "metadata": {},
   "outputs": [
    {
     "data": {
      "text/plain": [
       "4016     Wayona Adjustable Multi-Angle, Foldable Mobile...\n",
       "18409    LG PH550: Minibeam LED Projector With Built-In...\n",
       "11721    Parallel Universe Nylon Braided Micro USB Cabl...\n",
       "2745     Amazon Brand – Solimo BlitzTransfer 32GB USB 2...\n",
       "20856    Raptas Ultra Long Music Play Time MP4 Player a...\n",
       "Name: Text, dtype: object"
      ]
     },
     "execution_count": 82,
     "metadata": {},
     "output_type": "execute_result"
    }
   ],
   "source": [
    "x_test[:5]"
   ]
  },
  {
   "cell_type": "code",
   "execution_count": 83,
   "metadata": {},
   "outputs": [
    {
     "data": {
      "text/plain": [
       "array([1, 1, 1, 1, 1], dtype=int64)"
      ]
     },
     "execution_count": 83,
     "metadata": {},
     "output_type": "execute_result"
    }
   ],
   "source": [
    "y_pred[:5]"
   ]
  },
  {
   "cell_type": "code",
   "execution_count": 84,
   "metadata": {},
   "outputs": [
    {
     "data": {
      "text/plain": [
       "4016     1\n",
       "18409    1\n",
       "11721    1\n",
       "2745     1\n",
       "20856    1\n",
       "Name: label, dtype: int64"
      ]
     },
     "execution_count": 84,
     "metadata": {},
     "output_type": "execute_result"
    }
   ],
   "source": [
    "y_test[:5]"
   ]
  },
  {
   "cell_type": "code",
   "execution_count": 86,
   "metadata": {},
   "outputs": [],
   "source": [
    "import spacy \n",
    "nlp = spacy.load(\"en_core_web_sm\")"
   ]
  },
  {
   "cell_type": "code",
   "execution_count": 88,
   "metadata": {},
   "outputs": [],
   "source": [
    "def preprocessing(text : str):\n",
    "    doc = nlp(text)\n",
    "    lemma = []\n",
    "    for i in doc:\n",
    "        if not i.is_stop and not i.is_punct:\n",
    "            lemma.append(i.lemma_)\n",
    "    return \" \".join(lemma)"
   ]
  },
  {
   "cell_type": "code",
   "execution_count": 89,
   "metadata": {},
   "outputs": [],
   "source": [
    "df[\"preocessed_text\"] = df[\"Text\"].apply(preprocessing)"
   ]
  },
  {
   "cell_type": "code",
   "execution_count": 90,
   "metadata": {},
   "outputs": [
    {
     "data": {
      "text/html": [
       "<div>\n",
       "<style scoped>\n",
       "    .dataframe tbody tr th:only-of-type {\n",
       "        vertical-align: middle;\n",
       "    }\n",
       "\n",
       "    .dataframe tbody tr th {\n",
       "        vertical-align: top;\n",
       "    }\n",
       "\n",
       "    .dataframe thead th {\n",
       "        text-align: right;\n",
       "    }\n",
       "</style>\n",
       "<table border=\"1\" class=\"dataframe\">\n",
       "  <thead>\n",
       "    <tr style=\"text-align: right;\">\n",
       "      <th></th>\n",
       "      <th>Text</th>\n",
       "      <th>label</th>\n",
       "      <th>preocessed_text</th>\n",
       "    </tr>\n",
       "  </thead>\n",
       "  <tbody>\n",
       "    <tr>\n",
       "      <th>0</th>\n",
       "      <td>Urban Ladder Eisner Low Back Study-Office Comp...</td>\n",
       "      <td>0</td>\n",
       "      <td>Urban Ladder Eisner low Study Office Computer ...</td>\n",
       "    </tr>\n",
       "    <tr>\n",
       "      <th>1</th>\n",
       "      <td>Contrast living Wooden Decorative Box,Painted ...</td>\n",
       "      <td>0</td>\n",
       "      <td>contrast live Wooden Decorative Box Painted Bo...</td>\n",
       "    </tr>\n",
       "    <tr>\n",
       "      <th>2</th>\n",
       "      <td>IO Crest SY-PCI40010 PCI RAID Host Controller ...</td>\n",
       "      <td>1</td>\n",
       "      <td>IO Crest SY PCI40010 PCI raid Host Controller ...</td>\n",
       "    </tr>\n",
       "    <tr>\n",
       "      <th>3</th>\n",
       "      <td>ISAKAA Baby Socks from Just Born to 8 Years- P...</td>\n",
       "      <td>2</td>\n",
       "      <td>ISAKAA Baby Socks bear 8 Years- Pack 4 6 8 12 ...</td>\n",
       "    </tr>\n",
       "    <tr>\n",
       "      <th>4</th>\n",
       "      <td>Indira Designer Women's Art Mysore Silk Saree ...</td>\n",
       "      <td>2</td>\n",
       "      <td>Indira Designer Women Art Mysore Silk Saree Bl...</td>\n",
       "    </tr>\n",
       "  </tbody>\n",
       "</table>\n",
       "</div>"
      ],
      "text/plain": [
       "                                                Text  label  \\\n",
       "0  Urban Ladder Eisner Low Back Study-Office Comp...      0   \n",
       "1  Contrast living Wooden Decorative Box,Painted ...      0   \n",
       "2  IO Crest SY-PCI40010 PCI RAID Host Controller ...      1   \n",
       "3  ISAKAA Baby Socks from Just Born to 8 Years- P...      2   \n",
       "4  Indira Designer Women's Art Mysore Silk Saree ...      2   \n",
       "\n",
       "                                     preocessed_text  \n",
       "0  Urban Ladder Eisner low Study Office Computer ...  \n",
       "1  contrast live Wooden Decorative Box Painted Bo...  \n",
       "2  IO Crest SY PCI40010 PCI raid Host Controller ...  \n",
       "3  ISAKAA Baby Socks bear 8 Years- Pack 4 6 8 12 ...  \n",
       "4  Indira Designer Women Art Mysore Silk Saree Bl...  "
      ]
     },
     "execution_count": 90,
     "metadata": {},
     "output_type": "execute_result"
    }
   ],
   "source": [
    "df.head()"
   ]
  },
  {
   "cell_type": "code",
   "execution_count": 91,
   "metadata": {},
   "outputs": [],
   "source": [
    "x_train ,x_test , y_train , y_test = train_test_split(df.preocessed_text,df.label,random_state= 50 ,stratify= df.label)"
   ]
  },
  {
   "cell_type": "code",
   "execution_count": 92,
   "metadata": {},
   "outputs": [],
   "source": [
    "from sklearn.pipeline import Pipeline\n",
    "from sklearn.naive_bayes import MultinomialNB\n",
    "clf = Pipeline([\n",
    "    (\"TfidfVectorizer\",TfidfVectorizer()),\n",
    "    (\"MultinomialNB\",MultinomialNB())\n",
    "])"
   ]
  },
  {
   "cell_type": "code",
   "execution_count": 93,
   "metadata": {},
   "outputs": [],
   "source": [
    "clf.fit(x_train , y_train)\n",
    "y_pred = clf.predict(x_test)"
   ]
  },
  {
   "cell_type": "code",
   "execution_count": 94,
   "metadata": {},
   "outputs": [
    {
     "name": "stdout",
     "output_type": "stream",
     "text": [
      "              precision    recall  f1-score   support\n",
      "\n",
      "           0       0.94      0.97      0.95      1500\n",
      "           1       0.97      0.97      0.97      1500\n",
      "           2       0.97      0.98      0.98      1500\n",
      "           3       0.98      0.94      0.96      1500\n",
      "\n",
      "    accuracy                           0.97      6000\n",
      "   macro avg       0.97      0.97      0.97      6000\n",
      "weighted avg       0.97      0.97      0.97      6000\n",
      "\n"
     ]
    }
   ],
   "source": [
    "from sklearn.metrics import classification_report\n",
    "print(classification_report(y_test , y_pred))"
   ]
  }
 ],
 "metadata": {
  "kernelspec": {
   "display_name": "Python 3",
   "language": "python",
   "name": "python3"
  },
  "language_info": {
   "codemirror_mode": {
    "name": "ipython",
    "version": 3
   },
   "file_extension": ".py",
   "mimetype": "text/x-python",
   "name": "python",
   "nbconvert_exporter": "python",
   "pygments_lexer": "ipython3",
   "version": "3.11.3"
  },
  "orig_nbformat": 4
 },
 "nbformat": 4,
 "nbformat_minor": 2
}
