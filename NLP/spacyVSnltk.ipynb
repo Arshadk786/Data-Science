{
 "cells": [
  {
   "cell_type": "markdown",
   "metadata": {},
   "source": [
    "Spacy : It is object oriented \n",
    "nltk : It is string processing "
   ]
  },
  {
   "cell_type": "code",
   "execution_count": 8,
   "metadata": {},
   "outputs": [],
   "source": [
    "import spacy\n",
    "from nltk.tokenize import sent_tokenize,word_tokenize"
   ]
  },
  {
   "cell_type": "code",
   "execution_count": 4,
   "metadata": {},
   "outputs": [
    {
     "name": "stderr",
     "output_type": "stream",
     "text": [
      "[nltk_data] Downloading package punkt to\n",
      "[nltk_data]     C:\\Users\\arsha\\AppData\\Roaming\\nltk_data...\n",
      "[nltk_data]   Unzipping tokenizers\\punkt.zip.\n"
     ]
    },
    {
     "data": {
      "text/plain": [
       "True"
      ]
     },
     "execution_count": 4,
     "metadata": {},
     "output_type": "execute_result"
    }
   ],
   "source": [
    "nltk.download(\"punkt\")"
   ]
  },
  {
   "cell_type": "code",
   "execution_count": 2,
   "metadata": {},
   "outputs": [],
   "source": [
    "app = spacy.load(\"en_core_web_sm\")"
   ]
  },
  {
   "cell_type": "code",
   "execution_count": 3,
   "metadata": {},
   "outputs": [],
   "source": [
    "doc = app(\"They finished building the road they knew no one would ever use.Tomorrow will bring something new, so leave today as a memory.The light that burns twice as bright burns half as long.In hopes of finding out the truth, he entered the one-room library.\")"
   ]
  },
  {
   "cell_type": "markdown",
   "metadata": {},
   "source": [
    "Extracting Sentences from Paragraphs"
   ]
  },
  {
   "cell_type": "code",
   "execution_count": 4,
   "metadata": {},
   "outputs": [
    {
     "name": "stdout",
     "output_type": "stream",
     "text": [
      "They finished building the road they knew no one would ever use.\n",
      "Tomorrow will bring something new, so leave today as a memory.\n",
      "The light that burns twice as bright burns half as long.\n",
      "In hopes of finding out the truth, he entered the one-room library.\n"
     ]
    }
   ],
   "source": [
    "for sentences in doc.sents:\n",
    "    print(sentences)"
   ]
  },
  {
   "cell_type": "markdown",
   "metadata": {},
   "source": [
    "Extracting words from Sentences"
   ]
  },
  {
   "cell_type": "code",
   "execution_count": 5,
   "metadata": {},
   "outputs": [
    {
     "name": "stdout",
     "output_type": "stream",
     "text": [
      "They\n",
      "finished\n",
      "building\n",
      "the\n",
      "road\n",
      "they\n",
      "knew\n",
      "no\n",
      "one\n",
      "would\n",
      "ever\n",
      "use\n",
      ".\n",
      "Tomorrow\n",
      "will\n",
      "bring\n",
      "something\n",
      "new\n",
      ",\n",
      "so\n",
      "leave\n",
      "today\n",
      "as\n",
      "a\n",
      "memory\n",
      ".\n",
      "The\n",
      "light\n",
      "that\n",
      "burns\n",
      "twice\n",
      "as\n",
      "bright\n",
      "burns\n",
      "half\n",
      "as\n",
      "long\n",
      ".\n",
      "In\n",
      "hopes\n",
      "of\n",
      "finding\n",
      "out\n",
      "the\n",
      "truth\n",
      ",\n",
      "he\n",
      "entered\n",
      "the\n",
      "one\n",
      "-\n",
      "room\n",
      "library\n",
      ".\n"
     ]
    }
   ],
   "source": [
    "for sentences in doc.sents:\n",
    "    for words in sentences:\n",
    "        print(words)"
   ]
  },
  {
   "cell_type": "markdown",
   "metadata": {},
   "source": [
    "Tokenization using nltk"
   ]
  },
  {
   "cell_type": "code",
   "execution_count": 7,
   "metadata": {},
   "outputs": [
    {
     "data": {
      "text/plain": [
       "['They finished building the road they knew no one would ever use.',\n",
       " 'Tomorrow will bring something new, so leave today as a memory.',\n",
       " 'The light that burns twice as bright burns half as long.',\n",
       " 'In hopes of finding out the truth, he entered the one-room library.']"
      ]
     },
     "execution_count": 7,
     "metadata": {},
     "output_type": "execute_result"
    }
   ],
   "source": [
    "sent_tokenize(\"They finished building the road they knew no one would ever use. Tomorrow will bring something new, so leave today as a memory. The light that burns twice as bright burns half as long. In hopes of finding out the truth, he entered the one-room library.\")"
   ]
  },
  {
   "cell_type": "code",
   "execution_count": 9,
   "metadata": {},
   "outputs": [
    {
     "data": {
      "text/plain": [
       "['They',\n",
       " 'finished',\n",
       " 'building',\n",
       " 'the',\n",
       " 'road',\n",
       " 'they',\n",
       " 'knew',\n",
       " 'no',\n",
       " 'one',\n",
       " 'would',\n",
       " 'ever',\n",
       " 'use.Tomorrow',\n",
       " 'will',\n",
       " 'bring',\n",
       " 'something',\n",
       " 'new',\n",
       " ',',\n",
       " 'so',\n",
       " 'leave',\n",
       " 'today',\n",
       " 'as',\n",
       " 'a',\n",
       " 'memory.The',\n",
       " 'light',\n",
       " 'that',\n",
       " 'burns',\n",
       " 'twice',\n",
       " 'as',\n",
       " 'bright',\n",
       " 'burns',\n",
       " 'half',\n",
       " 'as',\n",
       " 'long.In',\n",
       " 'hopes',\n",
       " 'of',\n",
       " 'finding',\n",
       " 'out',\n",
       " 'the',\n",
       " 'truth',\n",
       " ',',\n",
       " 'he',\n",
       " 'entered',\n",
       " 'the',\n",
       " 'one-room',\n",
       " 'library',\n",
       " '.']"
      ]
     },
     "execution_count": 9,
     "metadata": {},
     "output_type": "execute_result"
    }
   ],
   "source": [
    "word_tokenize(\"They finished building the road they knew no one would ever use.Tomorrow will bring something new, so leave today as a memory.The light that burns twice as bright burns half as long.In hopes of finding out the truth, he entered the one-room library.\")"
   ]
  },
  {
   "cell_type": "code",
   "execution_count": null,
   "metadata": {},
   "outputs": [],
   "source": []
  }
 ],
 "metadata": {
  "kernelspec": {
   "display_name": "Python 3",
   "language": "python",
   "name": "python3"
  },
  "language_info": {
   "codemirror_mode": {
    "name": "ipython",
    "version": 3
   },
   "file_extension": ".py",
   "mimetype": "text/x-python",
   "name": "python",
   "nbconvert_exporter": "python",
   "pygments_lexer": "ipython3",
   "version": "3.11.3"
  },
  "orig_nbformat": 4
 },
 "nbformat": 4,
 "nbformat_minor": 2
}
