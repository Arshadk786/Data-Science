{
 "cells": [
  {
   "cell_type": "code",
   "execution_count": 1,
   "metadata": {},
   "outputs": [],
   "source": [
    "import spacy"
   ]
  },
  {
   "cell_type": "code",
   "execution_count": 2,
   "metadata": {},
   "outputs": [],
   "source": [
    "nlp = spacy.load(\"en_core_web_sm\")"
   ]
  },
  {
   "cell_type": "code",
   "execution_count": 5,
   "metadata": {},
   "outputs": [
    {
     "name": "stdout",
     "output_type": "stream",
     "text": [
      "The   |   DET   |   determiner   |   DT   |   determiner\n",
      "fence   |   NOUN   |   noun   |   NN   |   noun, singular or mass\n",
      "was   |   AUX   |   auxiliary   |   VBD   |   verb, past tense\n",
      "confused   |   ADJ   |   adjective   |   JJ   |   adjective (English), other noun-modifier (Chinese)\n",
      "about   |   ADP   |   adposition   |   IN   |   conjunction, subordinating or preposition\n",
      "whether   |   SCONJ   |   subordinating conjunction   |   IN   |   conjunction, subordinating or preposition\n",
      "it   |   PRON   |   pronoun   |   PRP   |   pronoun, personal\n",
      "was   |   AUX   |   auxiliary   |   VBD   |   verb, past tense\n",
      "supposed   |   VERB   |   verb   |   VBN   |   verb, past participle\n",
      "to   |   PART   |   particle   |   TO   |   infinitival \"to\"\n",
      "keep   |   VERB   |   verb   |   VB   |   verb, base form\n",
      "things   |   NOUN   |   noun   |   NNS   |   noun, plural\n",
      "in   |   ADP   |   adposition   |   RP   |   adverb, particle\n",
      "or   |   CCONJ   |   coordinating conjunction   |   CC   |   conjunction, coordinating\n",
      "keep   |   VERB   |   verb   |   VB   |   verb, base form\n",
      "things   |   NOUN   |   noun   |   NNS   |   noun, plural\n",
      "out   |   ADP   |   adposition   |   RP   |   adverb, particle\n",
      ".   |   PUNCT   |   punctuation   |   .   |   punctuation mark, sentence closer\n"
     ]
    }
   ],
   "source": [
    "doc = nlp(\"The fence was confused about whether it was supposed to keep things in or keep things out.\")\n",
    "\n",
    "for i in doc:\n",
    "    print(i,\"  |  \",i.pos_,\"  |  \",spacy.explain(i.pos_),\"  |  \",i.tag_,\"  |  \",spacy.explain(i.tag_))\n",
    "\n",
    "#i.pos_ is used to get the part of speech of the word\n",
    "#i.tag_ is used to get the detailed part of speech of the word\n",
    "#spacy.explain() is used to get the explanation of the part of speech"
   ]
  },
  {
   "cell_type": "markdown",
   "metadata": {},
   "source": [
    "**Remove PUNCT from the tokens**"
   ]
  },
  {
   "cell_type": "code",
   "execution_count": 8,
   "metadata": {},
   "outputs": [
    {
     "name": "stdout",
     "output_type": "stream",
     "text": [
      "The   |   DET\n",
      "fence   |   NOUN\n",
      "was   |   AUX\n",
      "confused   |   ADJ\n",
      "about   |   ADP\n",
      "whether   |   SCONJ\n",
      "it   |   PRON\n",
      "was   |   AUX\n",
      "supposed   |   VERB\n",
      "to   |   PART\n",
      "keep   |   VERB\n",
      "things   |   NOUN\n",
      "in   |   ADP\n",
      "or   |   CCONJ\n",
      "keep   |   VERB\n",
      "things   |   NOUN\n",
      "out   |   ADP\n"
     ]
    }
   ],
   "source": [
    "for i in doc:\n",
    "    if i.pos_ != \"PUNCT\":\n",
    "        print(i,\"  |  \",i.pos_)"
   ]
  },
  {
   "cell_type": "markdown",
   "metadata": {},
   "source": [
    "**Count POS in a Sentence**"
   ]
  },
  {
   "cell_type": "code",
   "execution_count": 15,
   "metadata": {},
   "outputs": [
    {
     "name": "stdout",
     "output_type": "stream",
     "text": [
      "{90: 1, 92: 3, 87: 2, 84: 1, 85: 3, 98: 1, 95: 1, 100: 3, 94: 1, 89: 1, 97: 1}\n",
      "DET   |   determiner\n"
     ]
    }
   ],
   "source": [
    "print(doc.count_by(spacy.attrs.POS))\n",
    "print(doc.vocab[90].text,\"  |  \",spacy.explain(doc.vocab[90].text) )"
   ]
  },
  {
   "cell_type": "code",
   "execution_count": 18,
   "metadata": {},
   "outputs": [
    {
     "name": "stdout",
     "output_type": "stream",
     "text": [
      "DET   |   determiner   |   1\n",
      "NOUN   |   noun   |   3\n",
      "AUX   |   auxiliary   |   2\n",
      "ADJ   |   adjective   |   1\n",
      "ADP   |   adposition   |   3\n",
      "SCONJ   |   subordinating conjunction   |   1\n",
      "PRON   |   pronoun   |   1\n",
      "VERB   |   verb   |   3\n",
      "PART   |   particle   |   1\n",
      "CCONJ   |   coordinating conjunction   |   1\n",
      "PUNCT   |   punctuation   |   1\n"
     ]
    }
   ],
   "source": [
    "count = doc.count_by(spacy.attrs.POS)\n",
    "for i,j in count.items():\n",
    "    print(doc.vocab[i].text,\"  |  \",spacy.explain(doc.vocab[i].text),\"  |  \",j)"
   ]
  },
  {
   "cell_type": "code",
   "execution_count": null,
   "metadata": {},
   "outputs": [],
   "source": []
  }
 ],
 "metadata": {
  "kernelspec": {
   "display_name": "Python 3",
   "language": "python",
   "name": "python3"
  },
  "language_info": {
   "codemirror_mode": {
    "name": "ipython",
    "version": 3
   },
   "file_extension": ".py",
   "mimetype": "text/x-python",
   "name": "python",
   "nbconvert_exporter": "python",
   "pygments_lexer": "ipython3",
   "version": "3.11.3"
  },
  "orig_nbformat": 4
 },
 "nbformat": 4,
 "nbformat_minor": 2
}
